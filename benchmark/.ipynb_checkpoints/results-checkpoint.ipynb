{
 "cells": [
  {
   "cell_type": "code",
   "execution_count": 4,
   "metadata": {
    "ExecuteTime": {
     "end_time": "2023-04-22T20:32:00.094056Z",
     "start_time": "2023-04-22T20:32:00.088774Z"
    },
    "collapsed": true
   },
   "outputs": [],
   "source": [
    "SINGLE_PEERSET_BENCHMARK = \"./single_peerset_local_1.csv\"\n",
    "CROSS_PEERSET_BENCHMARK = \"./cross_peerset_local_1.csv\"\n"
   ]
  },
  {
   "cell_type": "code",
   "execution_count": 11,
   "metadata": {
    "ExecuteTime": {
     "end_time": "2023-04-22T20:34:06.686918Z",
     "start_time": "2023-04-22T20:34:06.667685Z"
    }
   },
   "outputs": [
    {
     "data": {
      "text/html": [
       "<div>\n",
       "<style scoped>\n",
       "    .dataframe tbody tr th:only-of-type {\n",
       "        vertical-align: middle;\n",
       "    }\n",
       "\n",
       "    .dataframe tbody tr th {\n",
       "        vertical-align: top;\n",
       "    }\n",
       "\n",
       "    .dataframe thead th {\n",
       "        text-align: right;\n",
       "    }\n",
       "</style>\n",
       "<table border=\"1\" class=\"dataframe\">\n",
       "  <thead>\n",
       "    <tr style=\"text-align: right;\">\n",
       "      <th></th>\n",
       "      <th>peers_num</th>\n",
       "      <th>iterations</th>\n",
       "      <th>deployment_gas_used</th>\n",
       "      <th>deployment_time</th>\n",
       "      <th>changes_gas_used</th>\n",
       "      <th>changes_time</th>\n",
       "    </tr>\n",
       "  </thead>\n",
       "  <tbody>\n",
       "    <tr>\n",
       "      <th>2</th>\n",
       "      <td>1</td>\n",
       "      <td>1577845</td>\n",
       "      <td>Peerset created</td>\n",
       "      <td>time: 7.047586s</td>\n",
       "      <td>10322449</td>\n",
       "      <td>Time elapsed: 14.014098s</td>\n",
       "    </tr>\n",
       "    <tr>\n",
       "      <th>3</th>\n",
       "      <td>1</td>\n",
       "      <td>1623290</td>\n",
       "      <td>Peerset created</td>\n",
       "      <td>time: 7.057639s</td>\n",
       "      <td>319517</td>\n",
       "      <td>Time elapsed: 14.015061s</td>\n",
       "    </tr>\n",
       "    <tr>\n",
       "      <th>5</th>\n",
       "      <td>1</td>\n",
       "      <td>1714180</td>\n",
       "      <td>Peerset created</td>\n",
       "      <td>time: 7.056111s</td>\n",
       "      <td>429176</td>\n",
       "      <td>Time elapsed: 14.011389s</td>\n",
       "    </tr>\n",
       "    <tr>\n",
       "      <th>10</th>\n",
       "      <td>1</td>\n",
       "      <td>1941417</td>\n",
       "      <td>Peerset created</td>\n",
       "      <td>time: 7.062907s</td>\n",
       "      <td>725980</td>\n",
       "      <td>Time elapsed: 13.997478s</td>\n",
       "    </tr>\n",
       "  </tbody>\n",
       "</table>\n",
       "</div>"
      ],
      "text/plain": [
       "    peers_num   iterations  deployment_gas_used   deployment_time  \\\n",
       "2           1      1577845      Peerset created   time: 7.047586s   \n",
       "3           1      1623290      Peerset created   time: 7.057639s   \n",
       "5           1      1714180      Peerset created   time: 7.056111s   \n",
       "10          1      1941417      Peerset created   time: 7.062907s   \n",
       "\n",
       "     changes_gas_used               changes_time  \n",
       "2            10322449   Time elapsed: 14.014098s  \n",
       "3              319517   Time elapsed: 14.015061s  \n",
       "5              429176   Time elapsed: 14.011389s  \n",
       "10             725980   Time elapsed: 13.997478s  "
      ]
     },
     "execution_count": 11,
     "metadata": {},
     "output_type": "execute_result"
    }
   ],
   "source": [
    "import pandas as pd\n",
    "import matplotlib.pyplot as plt\n",
    "\n",
    "# Load data from CSV file\n",
    "data = pd.read_csv(SINGLE_PEERSET_BENCHMARK)\n",
    "\n",
    "# Group data by number of peers\n",
    "grouped = data.groupby(\"peers_num\")\n",
    "\n",
    "# Calculate mean values for each group\n",
    "means = grouped.mean()\n",
    "\n",
    "grouped\n",
    "#\n",
    "# print(grouped)\n",
    "#\n",
    "# # Plot deployment time vs. number of peers\n",
    "# plt.plot(means.index, means[\"deployment_time\"])\n",
    "# plt.xlabel(\"Number of peers\")\n",
    "# plt.ylabel(\"Deployment time (s)\")\n",
    "# plt.title(\"Deployment time vs. number of peers\")\n",
    "# plt.show()\n",
    "#\n",
    "# # Plot deployment gas used vs. number of peers\n",
    "# plt.plot(means.index, means[\"deployment_gas_used\"])\n",
    "# plt.xlabel(\"Number of peers\")\n",
    "# plt.ylabel(\"Deployment gas used\")\n",
    "# plt.title(\"Deployment gas used vs. number of peers\")\n",
    "# plt.show()\n",
    "#\n",
    "# # Plot changes time vs. number of peers\n",
    "# plt.plot(means.index, means[\"changes_time\"])\n",
    "# plt.xlabel(\"Number of peers\")\n",
    "# plt.ylabel(\"Changes time (s)\")\n",
    "# plt.title(\"Changes time vs. number of peers\")\n",
    "# plt.show()\n",
    "#\n",
    "# # Plot changes gas used vs. number of peers\n",
    "# plt.plot(means.index, means[\"changes_gas_used\"])\n",
    "# plt.xlabel(\"Number of peers\")\n",
    "# plt.ylabel(\"Changes gas used\")\n",
    "# plt.title(\"Changes gas used vs. number of peers\")\n",
    "# plt.show()\n",
    "data"
   ]
  },
  {
   "cell_type": "code",
   "execution_count": null,
   "metadata": {},
   "outputs": [],
   "source": []
  }
 ],
 "metadata": {
  "kernelspec": {
   "display_name": "Python 3 (ipykernel)",
   "language": "python",
   "name": "python3"
  },
  "language_info": {
   "codemirror_mode": {
    "name": "ipython",
    "version": 3
   },
   "file_extension": ".py",
   "mimetype": "text/x-python",
   "name": "python",
   "nbconvert_exporter": "python",
   "pygments_lexer": "ipython3",
   "version": "3.9.15"
  }
 },
 "nbformat": 4,
 "nbformat_minor": 1
}
